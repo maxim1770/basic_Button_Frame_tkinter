{
 "cells": [
  {
   "cell_type": "code",
   "execution_count": 1,
   "metadata": {},
   "outputs": [],
   "source": [
    "import tkinter"
   ]
  },
  {
   "cell_type": "code",
   "execution_count": 2,
   "metadata": {},
   "outputs": [],
   "source": [
    "def perevod():\n",
    " if perevod_from.get() == '10' and perevod_in.get() == '16':  # все оки\n",
    "  y = hex(int(number.get()))\n",
    "  output['text'] = y\n",
    " elif perevod_from.get() == '16' and perevod_in.get() == '10':\n",
    "  y = int(number.get(), 16)\n",
    "  output['text'] = y\n",
    " else:\n",
    "  output['text'] = 'Введите другие системы счисления'\n"
   ]
  },
  {
   "cell_type": "code",
   "execution_count": 3,
   "metadata": {},
   "outputs": [],
   "source": [
    "#создание основного окна\n",
    "window = tkinter.Tk()\n",
    "window.title('Перевод')\t\t \n",
    "window.geometry('300x150+500+200') \n",
    "\n",
    "frame_1=tkinter.Frame(window)\n",
    "frame_1.pack()\n",
    "\n",
    "frame_2=tkinter.Frame(window)\n",
    "frame_2.pack()\n",
    "\n",
    "frame_3=tkinter.Frame(window)\n",
    "frame_3.pack()\n",
    "\n",
    "stroka_from=tkinter.Label(frame_1, text = 'Перевести из ', font =\"Arial\")\n",
    "stroka_from.pack(side='left')\n",
    "\n",
    "stroka_in=tkinter.Label(frame_2, text = 'В', font =\"Arial\")\n",
    "stroka_in.pack(side='left')\n",
    "\n",
    "stroka_number=tkinter.Label(frame_3, text = 'Число ', font =\"Arial\")\n",
    "stroka_number.pack(side='left')\n",
    "#из какой системы счисления\n",
    "perevod_from = tkinter.Entry(frame_1)\n",
    "perevod_from.pack()\n",
    "# в какую систему счисления\n",
    "perevod_in = tkinter.Entry(frame_2)\n",
    "perevod_in.pack()\n",
    "# ввод числа\n",
    "number = tkinter.Entry(frame_3)\n",
    "number.pack()\n",
    "\n",
    "\n",
    "\n",
    "#кнопка \"Считать\"\n",
    "but_count =tkinter.Button(window) \n",
    "but_count.config(text='Считать', font =\"Arial\", command=perevod)\n",
    "but_count.pack() \n",
    "#создание объекта надписи для вывода сообщений\n",
    "output = tkinter.Label(window, font =\"Arial\")\n",
    "output.pack()\n",
    " \n",
    "window.mainloop()"
   ]
  }
 ],
 "metadata": {
  "kernelspec": {
   "display_name": "Python 3.9.7 ('base')",
   "language": "python",
   "name": "python3"
  },
  "language_info": {
   "codemirror_mode": {
    "name": "ipython",
    "version": 3
   },
   "file_extension": ".py",
   "mimetype": "text/x-python",
   "name": "python",
   "nbconvert_exporter": "python",
   "pygments_lexer": "ipython3",
   "version": "3.9.7"
  },
  "orig_nbformat": 4,
  "vscode": {
   "interpreter": {
    "hash": "1bc342da20f6f38dcb8ca582bfbdfa6235f2efb3475ada79a69f540a27e276eb"
   }
  }
 },
 "nbformat": 4,
 "nbformat_minor": 2
}
